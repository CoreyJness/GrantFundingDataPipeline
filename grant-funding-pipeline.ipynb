{
  "cells": [
    {
      "cell_type": "markdown",
      "metadata": {
        "id": "ywNgMV1_brGF"
      },
      "source": [
        "Install playwright into the Colab environment"
      ]
    },
    {
      "cell_type": "code",
      "execution_count": null,
      "metadata": {
        "id": "17c-IA-fbkl3"
      },
      "outputs": [],
      "source": [
        "!pip install playwright\n",
        "!playwright install\n"
      ]
    },
    {
      "cell_type": "markdown",
      "metadata": {
        "id": "AmoFylwsb8vW"
      },
      "source": [
        "Import necessary libraries"
      ]
    },
    {
      "cell_type": "code",
      "execution_count": null,
      "metadata": {
        "id": "h05AA4qgba1b"
      },
      "outputs": [],
      "source": [
        "import asyncio\n",
        "from playwright.async_api import async_playwright\n",
        "from google.colab import drive\n",
        "from google.colab import auth\n",
        "from googleapiclient.http import MediaFileUpload, MediaIoBaseDownload\n",
        "from openpyxl import load_workbook, Workbook\n",
        "from googleapiclient.discovery import build\n",
        "from oauth2client.client import GoogleCredentials\n",
        "import io\n",
        "import re"
      ]
    },
    {
      "cell_type": "markdown",
      "metadata": {
        "id": "wrlZyIpzwSRG"
      },
      "source": [
        "Setup connectivity to google drive"
      ]
    },
    {
      "cell_type": "code",
      "execution_count": null,
      "metadata": {
        "id": "MLris-zIz6KR"
      },
      "outputs": [],
      "source": [
        "# Mount Google Drive to access folders directly\n",
        "print(\"Mounting Google Drive...\")\n",
        "drive.mount('/content/drive')\n",
        "\n",
        "# Authenticate for Google API access\n",
        "auth.authenticate_user()\n",
        "\n",
        "\n",
        "# Function to get credentials and create Drive service\n",
        "def create_drive_service():\n",
        "    creds = GoogleCredentials.get_application_default()\n",
        "    return build('drive', 'v3', credentials=creds)\n",
        "\n",
        "# Set the target Google Drive folder ID (from your provided URL)\n",
        "drive_folder_id = \"1MnCNbtItDKzOJPJQcvJqJvAsIOfwNqGx\"\n",
        "print(f\"Target folder ID: {drive_folder_id}\")\n",
        "\n",
        "\n",
        "# Upload function to Google Drive\n",
        "def upload_to_drive(file_path, file_name):\n",
        "    # Initialize Google Drive service\n",
        "    drive_service = create_drive_service()\n",
        "\n",
        "    file_metadata = {'name': file_name, 'parents': [drive_folder_id]}\n",
        "    media = MediaFileUpload(file_path, mimetype='application/vnd.openxmlformats-officedocument.spreadsheetml.sheet')\n",
        "\n",
        "    # Create request to upload the file\n",
        "    request = drive_service.files().create(media_body=media, body=file_metadata)\n",
        "    response = request.execute()\n",
        "    print(f\"Uploaded: {response['name']} to Google Drive\")\n",
        "\n",
        "\n"
      ]
    },
    {
      "cell_type": "markdown",
      "metadata": {
        "id": "SOcGMz7Kd8OL"
      },
      "source": [
        "Create a function that downloads all of the excel files from the website.  This is the scraping function"
      ]
    },
    {
      "cell_type": "code",
      "execution_count": null,
      "metadata": {
        "collapsed": true,
        "id": "bNUkocnKcCIC"
      },
      "outputs": [],
      "source": [
        "async def main():\n",
        "    async with async_playwright() as p:\n",
        "        browser = await p.chromium.launch()\n",
        "        page = await browser.new_page()\n",
        "        await page.goto(\"https://www.ed.gov/about/ed-overview/budget/estimated-esea-title-i-lea-allocations-fy-2024\")\n",
        "\n",
        "        links = await page.query_selector_all(\"a\")\n",
        "\n",
        "        for link in links:\n",
        "            href = await link.get_attribute(\"href\")\n",
        "            if href and href.endswith(\".xlsx\"):\n",
        "                async with page.expect_download(timeout=60000) as download_info:\n",
        "                    await link.click()\n",
        "                download = await download_info.value\n",
        "                file_path = await download.path()\n",
        "                file_name = download.suggested_filename\n",
        "\n",
        "                # Upload to Google Drive\n",
        "                upload_to_drive(file_path, file_name)\n",
        "\n",
        "        await browser.close()\n",
        "\n",
        "await main()\n",
        "\n"
      ]
    },
    {
      "cell_type": "markdown",
      "metadata": {
        "id": "Ry0MohLQrfSg"
      },
      "source": [
        "Clear all of the sheets.  This is to ensure that files from previous tests are cleared.  This is not necessary unless cleaning the folder for organization."
      ]
    },
    {
      "cell_type": "code",
      "execution_count": null,
      "metadata": {
        "id": "3nGpikGV_mA9"
      },
      "outputs": [],
      "source": [
        "# Remove all sheets except the first one in the master Google Sheet\n",
        "#def clear_extra_sheets(spreadsheet_id):\n",
        "    sheets_service = build('sheets', 'v4', credentials=GoogleCredentials.get_application_default())\n",
        "    sheet_metadata = sheets_service.spreadsheets().get(spreadsheetId=spreadsheet_id).execute()\n",
        "    sheets = sheet_metadata.get('sheets', [])\n",
        "\n",
        "    # Keep the first sheet, delete the rest\n",
        "    for sheet in sheets[1:]:\n",
        "        sheet_id = sheet['properties']['sheetId']\n",
        "        title = sheet['properties']['title']\n",
        "        try:\n",
        "            sheets_service.spreadsheets().batchUpdate(\n",
        "                spreadsheetId=spreadsheet_id,\n",
        "                body={\n",
        "                    'requests': [{\n",
        "                        'deleteSheet': {'sheetId': sheet_id}\n",
        "                    }]\n",
        "                }\n",
        "            ).execute()\n",
        "            print(f\"Deleted sheet: {title}\")\n",
        "        except Exception as e:\n",
        "            print(f\"Failed to delete sheet {title}: {e}\")\n",
        "\n",
        "# ID\n",
        "master_sheet_id = '1aQjTdy3WbWBGHwCO8_UDT0zoGhejCzfmHnyZ6g3qV8k'\n",
        "\n",
        "# Call this before adding new tabs\n",
        "#clear_extra_sheets(master_sheet_id)"
      ]
    },
    {
      "cell_type": "markdown",
      "metadata": {
        "id": "jrY-Vy1k7jzh"
      },
      "source": [
        "Add all of the files into one master file separated by tabs"
      ]
    },
    {
      "cell_type": "code",
      "execution_count": null,
      "metadata": {
        "id": "rB4v3eqo94fN"
      },
      "outputs": [],
      "source": [
        "drive_service = create_drive_service()\n",
        "sheets_service = build('sheets', 'v4', credentials=GoogleCredentials.get_application_default())\n",
        "\n",
        "# Get Excel files in folder\n",
        "results = drive_service.files().list(\n",
        "    q=f\"'{drive_folder_id}' in parents and mimeType='application/vnd.openxmlformats-officedocument.spreadsheetml.sheet'\",\n",
        "    fields=\"files(id, name)\"\n",
        ").execute()\n",
        "\n",
        "excel_files = results.get('files', [])\n",
        "\n",
        "for file in excel_files:\n",
        "    file_id = file['id']\n",
        "    file_name = file['name']\n",
        "\n",
        "    # Use regex to extract the state name\n",
        "    match = re.search(r'tables-([a-z\\-]+)-\\d+\\.xlsx', file_name)\n",
        "    sheet_name = match.group(1).replace(\"-\", \" \").title()[:31] if match else file_name.split('.')[0][:31]\n",
        "\n",
        "    # Download the Excel file\n",
        "    request = drive_service.files().get_media(fileId=file_id)\n",
        "    fh = io.BytesIO()\n",
        "    downloader = MediaIoBaseDownload(fh, request)\n",
        "    done = False\n",
        "    while not done:\n",
        "        _, done = downloader.next_chunk()\n",
        "    fh.seek(0)\n",
        "\n",
        "    try:\n",
        "        wb = load_workbook(fh)\n",
        "        ws = wb.active\n",
        "\n",
        "        # Extract data from Excel\n",
        "        values = [[cell.value for cell in row] for row in ws.iter_rows()]\n",
        "\n",
        "        # Create new sheet in Google Sheet\n",
        "        sheets_service.spreadsheets().batchUpdate(\n",
        "            spreadsheetId=master_sheet_id,\n",
        "            body={\n",
        "                'requests': [{\n",
        "                    'addSheet': {\n",
        "                        'properties': {'title': sheet_name}\n",
        "                    }\n",
        "                }]\n",
        "            }\n",
        "        ).execute()\n",
        "\n",
        "        # Push data to the new sheet\n",
        "        sheets_service.spreadsheets().values().update(\n",
        "            spreadsheetId=master_sheet_id,\n",
        "            range=f\"{sheet_name}!A1\",\n",
        "            valueInputOption=\"RAW\",\n",
        "            body={\"values\": values}\n",
        "        ).execute()\n",
        "\n",
        "        print(f\"Added {file_name} as tab: {sheet_name}\")\n",
        "    except Exception as e:\n",
        "        break\n"
      ]
    }
  ],
  "metadata": {
    "colab": {
      "provenance": []
    },
    "kernelspec": {
      "display_name": "Python 3",
      "name": "python3"
    },
    "language_info": {
      "name": "python"
    }
  },
  "nbformat": 4,
  "nbformat_minor": 0
}
